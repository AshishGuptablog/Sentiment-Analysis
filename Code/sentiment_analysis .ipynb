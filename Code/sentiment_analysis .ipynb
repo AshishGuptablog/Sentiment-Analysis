{
 "cells": [
  {
   "cell_type": "code",
   "execution_count": 0,
   "metadata": {
    "colab": {},
    "colab_type": "code",
    "id": "dGYdUM-VZv2B"
   },
   "outputs": [],
   "source": [
    "import pandas as pd\n",
    "import numpy as np\n",
    "from sklearn.feature_extraction.text import TfidfVectorizer\n",
    "from sklearn.metrics.pairwise import cosine_similarity\n",
    "import nltk\n",
    "from nltk import sent_tokenize\n",
    "from nltk import word_tokenize\n",
    "#from rake_nltk import Rake\n",
    "from sklearn.ensemble import RandomForestClassifier\n",
    "from sklearn.model_selection import train_test_split\n",
    "from sklearn.model_selection import GridSearchCV\n",
    "import re"
   ]
  },
  {
   "cell_type": "code",
   "execution_count": 4,
   "metadata": {
    "colab": {
     "base_uri": "https://localhost:8080/",
     "height": 51
    },
    "colab_type": "code",
    "id": "ddqwRGsPZv2Q",
    "outputId": "933c5a1f-85e9-4b4f-b447-7146b7cbfeef"
   },
   "outputs": [
    {
     "name": "stdout",
     "output_type": "stream",
     "text": [
      "(5279, 4)\n",
      "(2924, 3)\n"
     ]
    }
   ],
   "source": [
    "df_trainfile=pd.read_csv(\"/content/drive/My Drive/Innoplexus/train_F3WbcTw_1.csv\")\n",
    "df_testfile=pd.read_csv(\"/content/drive/My Drive/Innoplexus/test_tOlRoBf_1.csv\")\n",
    "print(df_trainfile.shape)\n",
    "print(df_testfile.shape)"
   ]
  },
  {
   "cell_type": "code",
   "execution_count": 0,
   "metadata": {
    "colab": {},
    "colab_type": "code",
    "id": "_UhAUqSxZv2a"
   },
   "outputs": [],
   "source": [
    "df_trainfile.set_index('unique_hash',inplace=True)\n",
    "df_testfile.set_index('unique_hash',inplace=True)"
   ]
  },
  {
   "cell_type": "code",
   "execution_count": 0,
   "metadata": {
    "colab": {},
    "colab_type": "code",
    "id": "DjHWEwkGZv2o"
   },
   "outputs": [],
   "source": [
    "df_trainfile[\"text_drug\"]=df_trainfile[\"text\"]\n",
    "\n",
    "\n",
    "\n",
    "df_trainfile[\"text_drug\"]=df_trainfile[\"text_drug\"].map(lambda x: x.lower())\n",
    "\n",
    "df_trainfile[\"text_drug\"]=df_trainfile[\"text_drug\"].map(lambda x: re.sub(r'\\W', ' ', str(x)))\n",
    "df_trainfile[\"text_drug\"]=df_trainfile[\"text_drug\"].map(lambda x: re.sub(r'\\s+[a-zA-Z]\\s+', ' ', x))\n",
    "df_trainfile[\"text_drug\"]=df_trainfile[\"text_drug\"].map(lambda x: re.sub(r'\\^[a-zA-Z]\\s+', ' ', x))\n",
    "df_trainfile[\"text_drug\"]=df_trainfile[\"text_drug\"].map(lambda x: re.sub(r'\\s+', ' ', x, flags=re.I))\n",
    "df_trainfile[\"text_drug\"]=df_trainfile[\"text_drug\"].map(lambda x: re.sub(r'^b\\s+', '', x))"
   ]
  },
  {
   "cell_type": "code",
   "execution_count": 7,
   "metadata": {
    "colab": {
     "base_uri": "https://localhost:8080/",
     "height": 136
    },
    "colab_type": "code",
    "id": "BTiVKQ00Zv20",
    "outputId": "04e46498-c392-4786-f8c8-365cc2333375"
   },
   "outputs": [
    {
     "name": "stdout",
     "output_type": "stream",
     "text": [
      "2    3825\n",
      "1     837\n",
      "0     617\n",
      "Name: sentiment, dtype: int64\n",
      "3825\n",
      "837\n",
      "617\n"
     ]
    }
   ],
   "source": [
    "print(df_trainfile.sentiment.value_counts())\n",
    "count_class_2, count_class_1, count_class_0=df_trainfile.sentiment.value_counts()\n",
    "print((count_class_2))\n",
    "print((count_class_1))\n",
    "print((count_class_0))"
   ]
  },
  {
   "cell_type": "code",
   "execution_count": 0,
   "metadata": {
    "colab": {},
    "colab_type": "code",
    "id": "5uu8n1wJZv2-"
   },
   "outputs": [],
   "source": [
    "df_class_0 = df_trainfile[df_trainfile['sentiment'] == 0]\n",
    "df_class_1 = df_trainfile[df_trainfile['sentiment'] == 1]\n",
    "df_class_2 = df_trainfile[df_trainfile['sentiment'] == 2]"
   ]
  },
  {
   "cell_type": "code",
   "execution_count": 9,
   "metadata": {
    "colab": {
     "base_uri": "https://localhost:8080/",
     "height": 68
    },
    "colab_type": "code",
    "id": "076fkz27Zv3G",
    "outputId": "9c646075-a5a2-4fc7-ccbf-31a760b8bfce"
   },
   "outputs": [
    {
     "name": "stdout",
     "output_type": "stream",
     "text": [
      "(3825, 4)\n",
      "(3825, 4)\n",
      "(5279, 4)\n"
     ]
    }
   ],
   "source": [
    "df_class_0_over = df_class_0.sample(count_class_2, replace=True)\n",
    "df_class_1_over = df_class_1.sample(count_class_2, replace=True)\n",
    "\n",
    "print(df_class_0_over.shape)\n",
    "print(df_class_1_over.shape)\n",
    "print(df_trainfile.shape)"
   ]
  },
  {
   "cell_type": "code",
   "execution_count": 10,
   "metadata": {
    "colab": {
     "base_uri": "https://localhost:8080/",
     "height": 34
    },
    "colab_type": "code",
    "id": "KiucEsC5Zv3R",
    "outputId": "d5c9a5a2-9f58-4de6-be15-2ff915a188ab"
   },
   "outputs": [
    {
     "name": "stdout",
     "output_type": "stream",
     "text": [
      "(11475, 4)\n"
     ]
    }
   ],
   "source": [
    "df_test_over = pd.concat([df_class_0_over, df_class_1_over,df_class_2], axis=0)\n",
    "print(df_test_over.shape)"
   ]
  },
  {
   "cell_type": "code",
   "execution_count": 14,
   "metadata": {
    "colab": {
     "base_uri": "https://localhost:8080/",
     "height": 102
    },
    "colab_type": "code",
    "id": "6uuS03mXcDcQ",
    "outputId": "c308f44f-fedb-4523-806b-479823b96d7c"
   },
   "outputs": [
    {
     "name": "stdout",
     "output_type": "stream",
     "text": [
      "[nltk_data] Downloading package punkt to /root/nltk_data...\n",
      "[nltk_data]   Package punkt is already up-to-date!\n",
      "[nltk_data] Downloading package wordnet to /root/nltk_data...\n",
      "[nltk_data]   Unzipping corpora/wordnet.zip.\n"
     ]
    },
    {
     "data": {
      "text/plain": [
       "True"
      ]
     },
     "execution_count": 14,
     "metadata": {
      "tags": []
     },
     "output_type": "execute_result"
    }
   ],
   "source": [
    "  import nltk\n",
    "  nltk.download('punkt')\n",
    "  nltk.download('wordnet')"
   ]
  },
  {
   "cell_type": "code",
   "execution_count": 15,
   "metadata": {
    "colab": {
     "base_uri": "https://localhost:8080/",
     "height": 139
    },
    "colab_type": "code",
    "id": "OFWI9VoTZv3a",
    "outputId": "7e79b9ed-41dc-489d-8e35-6cfc8cb886ee"
   },
   "outputs": [
    {
     "name": "stdout",
     "output_type": "stream",
     "text": [
      "2    3825\n",
      "1    3825\n",
      "0    3825\n",
      "Name: sentiment, dtype: int64\n"
     ]
    },
    {
     "name": "stderr",
     "output_type": "stream",
     "text": [
      "/usr/local/lib/python3.6/dist-packages/sklearn/feature_extraction/text.py:300: UserWarning: Your stop_words may be inconsistent with your preprocessing. Tokenizing the stop words generated tokens ['ha', 'le', 'u', 'wa'] not in stop_words.\n",
      "  'stop_words.' % sorted(inconsistent))\n"
     ]
    }
   ],
   "source": [
    "print(df_test_over[\"sentiment\"].value_counts())\n",
    "\n",
    "lemmer=nltk.stem.WordNetLemmatizer()\n",
    "\n",
    "def Lem_lemmatize(tokens):\n",
    "  return [lemmer.lemmatize(token) for token in tokens]\n",
    "\n",
    "def Lem_tokens(x):\n",
    "  return Lem_lemmatize(nltk.word_tokenize(x))\n",
    "\n",
    "clf_tfidf=TfidfVectorizer(lowercase=True,stop_words=\"english\", tokenizer=Lem_tokens)\n",
    "\n",
    "x_text_train=df_test_over[\"text_drug\"]\n",
    "x_text_train_trf=clf_tfidf.fit_transform(x_text_train).toarray()"
   ]
  },
  {
   "cell_type": "code",
   "execution_count": 0,
   "metadata": {
    "colab": {},
    "colab_type": "code",
    "id": "g60qbrIZZv3k"
   },
   "outputs": [],
   "source": [
    "y=df_test_over[\"sentiment\"]\n",
    "\n",
    "X_train,X_test,y_train,y_test=train_test_split(x_text_train_trf,y,test_size=0.4)"
   ]
  },
  {
   "cell_type": "code",
   "execution_count": 18,
   "metadata": {
    "colab": {
     "base_uri": "https://localhost:8080/",
     "height": 1000
    },
    "colab_type": "code",
    "id": "0ZtwfLQMZv3s",
    "outputId": "b1f73ed1-c504-4769-9fd7-08df60eb8a6e"
   },
   "outputs": [
    {
     "name": "stdout",
     "output_type": "stream",
     "text": [
      "Fitting 3 folds for each of 9 candidates, totalling 27 fits\n",
      "[CV] max_depth=100, n_estimators=100 .................................\n"
     ]
    },
    {
     "name": "stderr",
     "output_type": "stream",
     "text": [
      "[Parallel(n_jobs=1)]: Using backend SequentialBackend with 1 concurrent workers.\n"
     ]
    },
    {
     "name": "stdout",
     "output_type": "stream",
     "text": [
      "[CV] ..... max_depth=100, n_estimators=100, score=0.884, total=  34.8s\n",
      "[CV] max_depth=100, n_estimators=100 .................................\n"
     ]
    },
    {
     "name": "stderr",
     "output_type": "stream",
     "text": [
      "[Parallel(n_jobs=1)]: Done   1 out of   1 | elapsed:   34.8s remaining:    0.0s\n"
     ]
    },
    {
     "name": "stdout",
     "output_type": "stream",
     "text": [
      "[CV] ..... max_depth=100, n_estimators=100, score=0.894, total=  37.3s\n",
      "[CV] max_depth=100, n_estimators=100 .................................\n"
     ]
    },
    {
     "name": "stderr",
     "output_type": "stream",
     "text": [
      "[Parallel(n_jobs=1)]: Done   2 out of   2 | elapsed:  1.2min remaining:    0.0s\n"
     ]
    },
    {
     "name": "stdout",
     "output_type": "stream",
     "text": [
      "[CV] ..... max_depth=100, n_estimators=100, score=0.883, total=  39.4s\n",
      "[CV] max_depth=100, n_estimators=150 .................................\n"
     ]
    },
    {
     "name": "stderr",
     "output_type": "stream",
     "text": [
      "[Parallel(n_jobs=1)]: Done   3 out of   3 | elapsed:  1.9min remaining:    0.0s\n"
     ]
    },
    {
     "name": "stdout",
     "output_type": "stream",
     "text": [
      "[CV] ..... max_depth=100, n_estimators=150, score=0.886, total=  50.1s\n",
      "[CV] max_depth=100, n_estimators=150 .................................\n"
     ]
    },
    {
     "name": "stderr",
     "output_type": "stream",
     "text": [
      "[Parallel(n_jobs=1)]: Done   4 out of   4 | elapsed:  2.7min remaining:    0.0s\n"
     ]
    },
    {
     "name": "stdout",
     "output_type": "stream",
     "text": [
      "[CV] ..... max_depth=100, n_estimators=150, score=0.895, total=  50.1s\n",
      "[CV] max_depth=100, n_estimators=150 .................................\n"
     ]
    },
    {
     "name": "stderr",
     "output_type": "stream",
     "text": [
      "[Parallel(n_jobs=1)]: Done   5 out of   5 | elapsed:  3.5min remaining:    0.0s\n"
     ]
    },
    {
     "name": "stdout",
     "output_type": "stream",
     "text": [
      "[CV] ..... max_depth=100, n_estimators=150, score=0.884, total=  50.7s\n",
      "[CV] max_depth=100, n_estimators=200 .................................\n"
     ]
    },
    {
     "name": "stderr",
     "output_type": "stream",
     "text": [
      "[Parallel(n_jobs=1)]: Done   6 out of   6 | elapsed:  4.4min remaining:    0.0s\n"
     ]
    },
    {
     "name": "stdout",
     "output_type": "stream",
     "text": [
      "[CV] ..... max_depth=100, n_estimators=200, score=0.885, total= 1.1min\n",
      "[CV] max_depth=100, n_estimators=200 .................................\n"
     ]
    },
    {
     "name": "stderr",
     "output_type": "stream",
     "text": [
      "[Parallel(n_jobs=1)]: Done   7 out of   7 | elapsed:  5.5min remaining:    0.0s\n"
     ]
    },
    {
     "name": "stdout",
     "output_type": "stream",
     "text": [
      "[CV] ..... max_depth=100, n_estimators=200, score=0.899, total= 1.6min\n",
      "[CV] max_depth=100, n_estimators=200 .................................\n"
     ]
    },
    {
     "name": "stderr",
     "output_type": "stream",
     "text": [
      "[Parallel(n_jobs=1)]: Done   8 out of   8 | elapsed:  7.1min remaining:    0.0s\n"
     ]
    },
    {
     "name": "stdout",
     "output_type": "stream",
     "text": [
      "[CV] ..... max_depth=100, n_estimators=200, score=0.887, total= 1.7min\n",
      "[CV] max_depth=150, n_estimators=100 .................................\n"
     ]
    },
    {
     "name": "stderr",
     "output_type": "stream",
     "text": [
      "[Parallel(n_jobs=1)]: Done   9 out of   9 | elapsed:  8.8min remaining:    0.0s\n"
     ]
    },
    {
     "name": "stdout",
     "output_type": "stream",
     "text": [
      "[CV] ..... max_depth=150, n_estimators=100, score=0.890, total=  50.8s\n",
      "[CV] max_depth=150, n_estimators=100 .................................\n",
      "[CV] ..... max_depth=150, n_estimators=100, score=0.896, total=  34.8s\n",
      "[CV] max_depth=150, n_estimators=100 .................................\n",
      "[CV] ..... max_depth=150, n_estimators=100, score=0.889, total=  35.4s\n",
      "[CV] max_depth=150, n_estimators=150 .................................\n",
      "[CV] ..... max_depth=150, n_estimators=150, score=0.891, total=  51.2s\n",
      "[CV] max_depth=150, n_estimators=150 .................................\n",
      "[CV] ..... max_depth=150, n_estimators=150, score=0.900, total=  51.8s\n",
      "[CV] max_depth=150, n_estimators=150 .................................\n",
      "[CV] ..... max_depth=150, n_estimators=150, score=0.894, total=  51.8s\n",
      "[CV] max_depth=150, n_estimators=200 .................................\n",
      "[CV] ..... max_depth=150, n_estimators=200, score=0.895, total= 1.1min\n",
      "[CV] max_depth=150, n_estimators=200 .................................\n",
      "[CV] ..... max_depth=150, n_estimators=200, score=0.903, total= 1.7min\n",
      "[CV] max_depth=150, n_estimators=200 .................................\n",
      "[CV] ..... max_depth=150, n_estimators=200, score=0.897, total= 1.7min\n",
      "[CV] max_depth=200, n_estimators=100 .................................\n",
      "[CV] ..... max_depth=200, n_estimators=100, score=0.880, total=  51.1s\n",
      "[CV] max_depth=200, n_estimators=100 .................................\n",
      "[CV] ..... max_depth=200, n_estimators=100, score=0.893, total=  34.8s\n",
      "[CV] max_depth=200, n_estimators=100 .................................\n",
      "[CV] ..... max_depth=200, n_estimators=100, score=0.888, total=  35.5s\n",
      "[CV] max_depth=200, n_estimators=150 .................................\n",
      "[CV] ..... max_depth=200, n_estimators=150, score=0.884, total=  51.2s\n",
      "[CV] max_depth=200, n_estimators=150 .................................\n",
      "[CV] ..... max_depth=200, n_estimators=150, score=0.895, total=  51.9s\n",
      "[CV] max_depth=200, n_estimators=150 .................................\n",
      "[CV] ..... max_depth=200, n_estimators=150, score=0.886, total=  52.3s\n",
      "[CV] max_depth=200, n_estimators=200 .................................\n",
      "[CV] ..... max_depth=200, n_estimators=200, score=0.887, total= 1.1min\n",
      "[CV] max_depth=200, n_estimators=200 .................................\n",
      "[CV] ..... max_depth=200, n_estimators=200, score=0.899, total= 1.1min\n",
      "[CV] max_depth=200, n_estimators=200 .................................\n",
      "[CV] ..... max_depth=200, n_estimators=200, score=0.886, total= 1.1min\n"
     ]
    },
    {
     "name": "stderr",
     "output_type": "stream",
     "text": [
      "[Parallel(n_jobs=1)]: Done  27 out of  27 | elapsed: 25.9min finished\n"
     ]
    },
    {
     "name": "stdout",
     "output_type": "stream",
     "text": [
      "{'max_depth': 150, 'n_estimators': 200}\n"
     ]
    }
   ],
   "source": [
    "clf_rfc=RandomForestClassifier(random_state=10)\n",
    "\n",
    "#v_estimators=[50,70,100,150]\n",
    "v_estimators=[100,150,200]\n",
    "#v_max_depth=[int(x) for x in np.linspace(start=10,stop=200,num=20)]\n",
    "#v_max_depth=[50,100,150]\n",
    "v_max_depth=[100,150,200]\n",
    "#v_min_samples_leaf=[2,3,4,5]\n",
    "\n",
    "\n",
    "param_grid={\"n_estimators\":v_estimators,\n",
    "            \"max_depth\":v_max_depth}\n",
    "\n",
    "clf_gridsearch=GridSearchCV(estimator=clf_rfc,\n",
    "                           param_grid=param_grid,\n",
    "                           cv=3,\n",
    "                           verbose=10)\n",
    "\n",
    "clf_gridsearch.fit(X_train,y_train)\n",
    "print(clf_gridsearch.best_params_)\n"
   ]
  },
  {
   "cell_type": "code",
   "execution_count": 0,
   "metadata": {
    "colab": {},
    "colab_type": "code",
    "id": "9iyU6y8ZZv34"
   },
   "outputs": [],
   "source": [
    "clf_rfc_f=RandomForestClassifier(random_state=10, n_estimators=200,max_depth=150) \n",
    "#-- without min_sample leaf 0.961811076903026\n",
    "# without drug addition 0.9622244594662654\n",
    "#0.9597993595429312\n",
    "clf_rfc_f.fit(X_train,y_train)\n",
    "y_pred=clf_rfc_f.predict(X_test)"
   ]
  },
  {
   "cell_type": "code",
   "execution_count": 20,
   "metadata": {
    "colab": {
     "base_uri": "https://localhost:8080/",
     "height": 204
    },
    "colab_type": "code",
    "id": "Zr0-35qnZv4B",
    "outputId": "95cdaedd-00d2-46c4-94fa-b03fb294421b"
   },
   "outputs": [
    {
     "name": "stdout",
     "output_type": "stream",
     "text": [
      "0.9572996953629351\n",
      "              precision    recall  f1-score   support\n",
      "\n",
      "           0       0.99      0.98      0.99      1547\n",
      "           1       0.95      0.95      0.95      1501\n",
      "           2       0.93      0.94      0.94      1542\n",
      "\n",
      "    accuracy                           0.96      4590\n",
      "   macro avg       0.96      0.96      0.96      4590\n",
      "weighted avg       0.96      0.96      0.96      4590\n",
      "\n"
     ]
    }
   ],
   "source": [
    "from sklearn.metrics import f1_score\n",
    "from sklearn.metrics import classification_report\n",
    "print(f1_score(y_test,y_pred,average=\"macro\"))\n",
    "print(classification_report(y_test,y_pred))"
   ]
  },
  {
   "cell_type": "code",
   "execution_count": 21,
   "metadata": {
    "colab": {
     "base_uri": "https://localhost:8080/",
     "height": 170
    },
    "colab_type": "code",
    "id": "PsJYTe0VZv4L",
    "outputId": "c6c02a1f-e40b-4b05-d422-43b7ed3756f8"
   },
   "outputs": [
    {
     "name": "stdout",
     "output_type": "stream",
     "text": [
      "4590\n",
      "2    1556\n",
      "0    1524\n",
      "1    1510\n",
      "Name: Predicted, dtype: int64\n",
      "0    1547\n",
      "2    1542\n",
      "1    1501\n",
      "Name: Actual, dtype: int64\n"
     ]
    }
   ],
   "source": [
    "print(len(y_test))\n",
    "#print(y_pred)\n",
    "\n",
    "df_y_test=pd.DataFrame(data=y_test.values,columns=[\"Actual\"])\n",
    "df_y_test[\"Predicted\"]=y_pred\n",
    "\n",
    "print(df_y_test[\"Predicted\"].value_counts())\n",
    "print(df_y_test[\"Actual\"].value_counts())"
   ]
  }
 ],
 "metadata": {
  "accelerator": "GPU",
  "colab": {
   "collapsed_sections": [],
   "name": "sentiment_analysis.ipynb",
   "provenance": []
  },
  "kernelspec": {
   "display_name": "Python 3",
   "language": "python",
   "name": "python3"
  },
  "language_info": {
   "codemirror_mode": {
    "name": "ipython",
    "version": 3
   },
   "file_extension": ".py",
   "mimetype": "text/x-python",
   "name": "python",
   "nbconvert_exporter": "python",
   "pygments_lexer": "ipython3",
   "version": "3.7.1"
  }
 },
 "nbformat": 4,
 "nbformat_minor": 1
}
